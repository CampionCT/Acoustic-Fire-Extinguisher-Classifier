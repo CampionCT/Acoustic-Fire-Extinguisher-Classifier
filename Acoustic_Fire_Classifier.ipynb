{
 "cells": [
  {
   "cell_type": "code",
   "execution_count": 92,
   "id": "4ba29682",
   "metadata": {},
   "outputs": [],
   "source": [
    "import pandas as pd\n",
    "import numpy as np\n",
    "import matplotlib.pyplot as plt\n",
    "from sklearn.model_selection import train_test_split\n",
    "from sklearn.preprocessing import StandardScaler\n",
    "from sklearn.metrics import classification_report, accuracy_score, confusion_matrix\n",
    "from sklearn.neighbors import KNeighborsClassifier"
   ]
  },
  {
   "cell_type": "code",
   "execution_count": 93,
   "id": "1b3a14c6",
   "metadata": {},
   "outputs": [],
   "source": [
    " fire_data = pd.read_excel('Acoustic_Extinguisher_Fire_Dataset.xlsx')"
   ]
  },
  {
   "cell_type": "code",
   "execution_count": 94,
   "id": "7d23e821",
   "metadata": {},
   "outputs": [
    {
     "data": {
      "text/html": [
       "<div>\n",
       "<style scoped>\n",
       "    .dataframe tbody tr th:only-of-type {\n",
       "        vertical-align: middle;\n",
       "    }\n",
       "\n",
       "    .dataframe tbody tr th {\n",
       "        vertical-align: top;\n",
       "    }\n",
       "\n",
       "    .dataframe thead th {\n",
       "        text-align: right;\n",
       "    }\n",
       "</style>\n",
       "<table border=\"1\" class=\"dataframe\">\n",
       "  <thead>\n",
       "    <tr style=\"text-align: right;\">\n",
       "      <th></th>\n",
       "      <th>SIZE</th>\n",
       "      <th>FUEL</th>\n",
       "      <th>DISTANCE</th>\n",
       "      <th>DESIBEL</th>\n",
       "      <th>AIRFLOW</th>\n",
       "      <th>FREQUENCY</th>\n",
       "      <th>STATUS</th>\n",
       "    </tr>\n",
       "  </thead>\n",
       "  <tbody>\n",
       "    <tr>\n",
       "      <th>0</th>\n",
       "      <td>1</td>\n",
       "      <td>gasoline</td>\n",
       "      <td>10</td>\n",
       "      <td>96</td>\n",
       "      <td>0.0</td>\n",
       "      <td>75</td>\n",
       "      <td>0</td>\n",
       "    </tr>\n",
       "    <tr>\n",
       "      <th>1</th>\n",
       "      <td>1</td>\n",
       "      <td>gasoline</td>\n",
       "      <td>10</td>\n",
       "      <td>96</td>\n",
       "      <td>0.0</td>\n",
       "      <td>72</td>\n",
       "      <td>1</td>\n",
       "    </tr>\n",
       "    <tr>\n",
       "      <th>2</th>\n",
       "      <td>1</td>\n",
       "      <td>gasoline</td>\n",
       "      <td>10</td>\n",
       "      <td>96</td>\n",
       "      <td>2.6</td>\n",
       "      <td>70</td>\n",
       "      <td>1</td>\n",
       "    </tr>\n",
       "    <tr>\n",
       "      <th>3</th>\n",
       "      <td>1</td>\n",
       "      <td>gasoline</td>\n",
       "      <td>10</td>\n",
       "      <td>96</td>\n",
       "      <td>3.2</td>\n",
       "      <td>68</td>\n",
       "      <td>1</td>\n",
       "    </tr>\n",
       "    <tr>\n",
       "      <th>4</th>\n",
       "      <td>1</td>\n",
       "      <td>gasoline</td>\n",
       "      <td>10</td>\n",
       "      <td>109</td>\n",
       "      <td>4.5</td>\n",
       "      <td>67</td>\n",
       "      <td>1</td>\n",
       "    </tr>\n",
       "  </tbody>\n",
       "</table>\n",
       "</div>"
      ],
      "text/plain": [
       "   SIZE      FUEL  DISTANCE  DESIBEL  AIRFLOW  FREQUENCY  STATUS\n",
       "0     1  gasoline        10       96      0.0         75       0\n",
       "1     1  gasoline        10       96      0.0         72       1\n",
       "2     1  gasoline        10       96      2.6         70       1\n",
       "3     1  gasoline        10       96      3.2         68       1\n",
       "4     1  gasoline        10      109      4.5         67       1"
      ]
     },
     "execution_count": 94,
     "metadata": {},
     "output_type": "execute_result"
    }
   ],
   "source": [
    "fire_data.head()"
   ]
  },
  {
   "cell_type": "code",
   "execution_count": 95,
   "id": "144eaea7",
   "metadata": {},
   "outputs": [
    {
     "name": "stdout",
     "output_type": "stream",
     "text": [
      "<class 'pandas.core.frame.DataFrame'>\n",
      "RangeIndex: 17442 entries, 0 to 17441\n",
      "Data columns (total 7 columns):\n",
      " #   Column     Non-Null Count  Dtype  \n",
      "---  ------     --------------  -----  \n",
      " 0   SIZE       17442 non-null  int64  \n",
      " 1   FUEL       17442 non-null  object \n",
      " 2   DISTANCE   17442 non-null  int64  \n",
      " 3   DESIBEL    17442 non-null  int64  \n",
      " 4   AIRFLOW    17442 non-null  float64\n",
      " 5   FREQUENCY  17442 non-null  int64  \n",
      " 6   STATUS     17442 non-null  int64  \n",
      "dtypes: float64(1), int64(5), object(1)\n",
      "memory usage: 954.0+ KB\n"
     ]
    }
   ],
   "source": [
    "fire_data.info()"
   ]
  },
  {
   "cell_type": "code",
   "execution_count": 96,
   "id": "19f1a526",
   "metadata": {},
   "outputs": [
    {
     "data": {
      "text/html": [
       "<div>\n",
       "<style scoped>\n",
       "    .dataframe tbody tr th:only-of-type {\n",
       "        vertical-align: middle;\n",
       "    }\n",
       "\n",
       "    .dataframe tbody tr th {\n",
       "        vertical-align: top;\n",
       "    }\n",
       "\n",
       "    .dataframe thead th {\n",
       "        text-align: right;\n",
       "    }\n",
       "</style>\n",
       "<table border=\"1\" class=\"dataframe\">\n",
       "  <thead>\n",
       "    <tr style=\"text-align: right;\">\n",
       "      <th></th>\n",
       "      <th>SIZE</th>\n",
       "      <th>DISTANCE</th>\n",
       "      <th>DESIBEL</th>\n",
       "      <th>AIRFLOW</th>\n",
       "      <th>FREQUENCY</th>\n",
       "      <th>STATUS</th>\n",
       "    </tr>\n",
       "  </thead>\n",
       "  <tbody>\n",
       "    <tr>\n",
       "      <th>count</th>\n",
       "      <td>17442.000000</td>\n",
       "      <td>17442.000000</td>\n",
       "      <td>17442.000000</td>\n",
       "      <td>17442.000000</td>\n",
       "      <td>17442.000000</td>\n",
       "      <td>17442.000000</td>\n",
       "    </tr>\n",
       "    <tr>\n",
       "      <th>mean</th>\n",
       "      <td>3.411765</td>\n",
       "      <td>100.000000</td>\n",
       "      <td>96.379142</td>\n",
       "      <td>6.975634</td>\n",
       "      <td>31.611111</td>\n",
       "      <td>0.497821</td>\n",
       "    </tr>\n",
       "    <tr>\n",
       "      <th>std</th>\n",
       "      <td>1.750977</td>\n",
       "      <td>54.773826</td>\n",
       "      <td>8.164096</td>\n",
       "      <td>4.736169</td>\n",
       "      <td>20.939149</td>\n",
       "      <td>0.500010</td>\n",
       "    </tr>\n",
       "    <tr>\n",
       "      <th>min</th>\n",
       "      <td>1.000000</td>\n",
       "      <td>10.000000</td>\n",
       "      <td>72.000000</td>\n",
       "      <td>0.000000</td>\n",
       "      <td>1.000000</td>\n",
       "      <td>0.000000</td>\n",
       "    </tr>\n",
       "    <tr>\n",
       "      <th>25%</th>\n",
       "      <td>2.000000</td>\n",
       "      <td>50.000000</td>\n",
       "      <td>90.000000</td>\n",
       "      <td>3.200000</td>\n",
       "      <td>14.000000</td>\n",
       "      <td>0.000000</td>\n",
       "    </tr>\n",
       "    <tr>\n",
       "      <th>50%</th>\n",
       "      <td>3.000000</td>\n",
       "      <td>100.000000</td>\n",
       "      <td>95.000000</td>\n",
       "      <td>5.800000</td>\n",
       "      <td>27.500000</td>\n",
       "      <td>0.000000</td>\n",
       "    </tr>\n",
       "    <tr>\n",
       "      <th>75%</th>\n",
       "      <td>5.000000</td>\n",
       "      <td>150.000000</td>\n",
       "      <td>104.000000</td>\n",
       "      <td>11.200000</td>\n",
       "      <td>47.000000</td>\n",
       "      <td>1.000000</td>\n",
       "    </tr>\n",
       "    <tr>\n",
       "      <th>max</th>\n",
       "      <td>7.000000</td>\n",
       "      <td>190.000000</td>\n",
       "      <td>113.000000</td>\n",
       "      <td>17.000000</td>\n",
       "      <td>75.000000</td>\n",
       "      <td>1.000000</td>\n",
       "    </tr>\n",
       "  </tbody>\n",
       "</table>\n",
       "</div>"
      ],
      "text/plain": [
       "               SIZE      DISTANCE       DESIBEL       AIRFLOW     FREQUENCY  \\\n",
       "count  17442.000000  17442.000000  17442.000000  17442.000000  17442.000000   \n",
       "mean       3.411765    100.000000     96.379142      6.975634     31.611111   \n",
       "std        1.750977     54.773826      8.164096      4.736169     20.939149   \n",
       "min        1.000000     10.000000     72.000000      0.000000      1.000000   \n",
       "25%        2.000000     50.000000     90.000000      3.200000     14.000000   \n",
       "50%        3.000000    100.000000     95.000000      5.800000     27.500000   \n",
       "75%        5.000000    150.000000    104.000000     11.200000     47.000000   \n",
       "max        7.000000    190.000000    113.000000     17.000000     75.000000   \n",
       "\n",
       "             STATUS  \n",
       "count  17442.000000  \n",
       "mean       0.497821  \n",
       "std        0.500010  \n",
       "min        0.000000  \n",
       "25%        0.000000  \n",
       "50%        0.000000  \n",
       "75%        1.000000  \n",
       "max        1.000000  "
      ]
     },
     "execution_count": 96,
     "metadata": {},
     "output_type": "execute_result"
    }
   ],
   "source": [
    "fire_data.describe()"
   ]
  },
  {
   "cell_type": "code",
   "execution_count": 97,
   "id": "0b7e88d1",
   "metadata": {},
   "outputs": [
    {
     "data": {
      "text/plain": [
       "FUEL    \n",
       "gasoline    5130\n",
       "kerosene    5130\n",
       "thinner     5130\n",
       "lpg         2052\n",
       "dtype: int64"
      ]
     },
     "execution_count": 97,
     "metadata": {},
     "output_type": "execute_result"
    }
   ],
   "source": [
    "fire_data[['FUEL']].value_counts()"
   ]
  },
  {
   "cell_type": "code",
   "execution_count": 98,
   "id": "5970d1e9",
   "metadata": {},
   "outputs": [],
   "source": [
    "fire_data['FUEL'] = pd.Categorical(fire_data['FUEL']).codes"
   ]
  },
  {
   "cell_type": "code",
   "execution_count": 99,
   "id": "d4d2b4fe",
   "metadata": {},
   "outputs": [],
   "source": [
    "x = fire_data.iloc[:, :-1]\n",
    "y = fire_data.iloc[:, -1]"
   ]
  },
  {
   "cell_type": "code",
   "execution_count": 100,
   "id": "bacaf920",
   "metadata": {},
   "outputs": [],
   "source": [
    "X_train, X_test, y_train, y_test = train_test_split(x, y, test_size=0.2, random_state=1)"
   ]
  },
  {
   "cell_type": "code",
   "execution_count": 101,
   "id": "f64a0026",
   "metadata": {},
   "outputs": [],
   "source": [
    "scaler = StandardScaler()"
   ]
  },
  {
   "cell_type": "code",
   "execution_count": 102,
   "id": "c64d068d",
   "metadata": {},
   "outputs": [],
   "source": [
    "X_train = scaler.fit_transform(X_train)\n",
    "X_test = scaler.fit_transform(X_test)"
   ]
  },
  {
   "cell_type": "code",
   "execution_count": 103,
   "id": "8e3f8a31",
   "metadata": {},
   "outputs": [],
   "source": [
    "classifier = KNeighborsClassifier(n_neighbors=7)"
   ]
  },
  {
   "cell_type": "code",
   "execution_count": 104,
   "id": "54c53d9e",
   "metadata": {},
   "outputs": [
    {
     "name": "stdout",
     "output_type": "stream",
     "text": [
      "              precision    recall  f1-score   support\n",
      "\n",
      "           0       0.97      0.95      0.96      1814\n",
      "           1       0.94      0.97      0.96      1675\n",
      "\n",
      "    accuracy                           0.96      3489\n",
      "   macro avg       0.96      0.96      0.96      3489\n",
      "weighted avg       0.96      0.96      0.96      3489\n",
      "\n"
     ]
    }
   ],
   "source": [
    "classifier.fit(X_train, y_train)\n",
    "y_pred = classifier.predict(X_test)\n",
    "print(classification_report(y_test, y_pred))"
   ]
  },
  {
   "cell_type": "code",
   "execution_count": 105,
   "id": "39d443dc",
   "metadata": {},
   "outputs": [
    {
     "name": "stdout",
     "output_type": "stream",
     "text": [
      "Model actual accuracy: 0.9564345084551448\n"
     ]
    }
   ],
   "source": [
    "print(f'Model actual accuracy: {accuracy_score(y_test, y_pred)}')"
   ]
  },
  {
   "cell_type": "code",
   "execution_count": 106,
   "id": "9e0fd961",
   "metadata": {},
   "outputs": [
    {
     "data": {
      "text/plain": [
       "array([[1716,   98],\n",
       "       [  54, 1621]], dtype=int64)"
      ]
     },
     "execution_count": 106,
     "metadata": {},
     "output_type": "execute_result"
    }
   ],
   "source": [
    "confusion_matrix(y_test, y_pred)"
   ]
  }
 ],
 "metadata": {
  "interpreter": {
   "hash": "49cb93f377a7abe7414b7b0f21fb3017538004a126cf690fb524202736b7fb92"
  },
  "kernelspec": {
   "display_name": "Python 3.9.7 ('base')",
   "language": "python",
   "name": "python3"
  },
  "language_info": {
   "codemirror_mode": {
    "name": "ipython",
    "version": 3
   },
   "file_extension": ".py",
   "mimetype": "text/x-python",
   "name": "python",
   "nbconvert_exporter": "python",
   "pygments_lexer": "ipython3",
   "version": "3.9.7"
  }
 },
 "nbformat": 4,
 "nbformat_minor": 5
}
